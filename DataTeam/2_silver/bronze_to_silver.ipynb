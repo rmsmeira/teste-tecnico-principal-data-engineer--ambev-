{
 "cells": [
  {
   "cell_type": "code",
   "execution_count": 0,
   "metadata": {
    "application/vnd.databricks.v1+cell": {
     "cellMetadata": {
      "byteLimit": 2048000,
      "rowLimit": 10000
     },
     "inputWidgets": {},
     "nuid": "7c2dd346-8d96-450c-84bd-1738438ac98e",
     "showTitle": false,
     "tableResultSettingsMap": {},
     "title": ""
    }
   },
   "outputs": [],
   "source": [
    "use catalog rodrigo_lakehouse"
   ]
  },
  {
   "cell_type": "code",
   "execution_count": 0,
   "metadata": {
    "application/vnd.databricks.v1+cell": {
     "cellMetadata": {
      "byteLimit": 2048000,
      "rowLimit": 10000
     },
     "inputWidgets": {},
     "nuid": "1b07abda-4f10-47dc-8894-e278bffd70ee",
     "showTitle": true,
     "tableResultSettingsMap": {
      "0": {
       "dataGridStateBlob": "{\"version\":1,\"tableState\":{\"columnPinning\":{\"left\":[\"#row_number#\"],\"right\":[]},\"columnSizing\":{\"sale_id\":292},\"columnVisibility\":{}},\"settings\":{\"columns\":{}},\"syncTimestamp\":1756806596027}",
       "filterBlob": null,
       "queryPlanFiltersBlob": null,
       "tableResultIndex": 0
      }
     },
     "title": "Sales"
    }
   },
   "outputs": [],
   "source": [
    "CREATE OR REPLACE TABLE silver.Sales AS\n",
    "SELECT\n",
    " COALESCE(TO_DATE(DATE, 'M/d/yyyy') , '1990-01-01') as date,\n",
    " MD5(\n",
    "    CONCAT(\n",
    "      COALESCE(TO_DATE(DATE, 'M/d/yyyy') , '1990-01-01'),\n",
    "      COALESCE(CE_BRAND_FLVR, -1),\n",
    "      COALESCE(Btlr_Org_LVL_C_Desc, 'NÃO INFORMADO'),\n",
    "      COALESCE(TRADE_CHNL_DESC, 'NÃO INFORMADO'),\n",
    "      COALESCE(TSR_PCKG_NM, 'NÃO INFORMADO'),\n",
    "      DOLLAR_Volume\n",
    "    )\n",
    "  ) AS sale_id,\n",
    "  MD5(\n",
    "    CONCAT(\n",
    "      COALESCE(CE_BRAND_FLVR, -1),\n",
    "      COALESCE(BRAND_NM, 'NÃO INFORMADO'),\n",
    "      COALESCE(PKG_CAT, 'NÃO INFORMADO'),\n",
    "      COALESCE(Pkg_Cat_Desc, 'NÃO INFORMADO'),\n",
    "      COALESCE(TSR_PCKG_NM, 'NÃO INFORMADO'))\n",
    "  ) AS product_id,\n",
    "  md5(COALESCE(Btlr_Org_LVL_C_Desc, 'NÃO INFORMADO')) as place_id,\n",
    "  md5(COALESCE(TRADE_CHNL_DESC, 'NÃO INFORMADO')) as channel_id,\n",
    "  DOLLAR_Volume as volume,\n",
    "  date_add(hour, -3, current_timestamp) insertdate\n",
    "FROM rodrigo_lakehouse.bronze.ambev_beverage_sales"
   ]
  },
  {
   "cell_type": "code",
   "execution_count": 0,
   "metadata": {
    "application/vnd.databricks.v1+cell": {
     "cellMetadata": {
      "byteLimit": 2048000,
      "rowLimit": 10000
     },
     "inputWidgets": {},
     "nuid": "bbe3d549-3c50-4893-931e-6f0175789375",
     "showTitle": true,
     "tableResultSettingsMap": {
      "0": {
       "dataGridStateBlob": "{\"version\":1,\"tableState\":{\"columnPinning\":{\"left\":[\"#row_number#\"],\"right\":[]},\"columnSizing\":{},\"columnVisibility\":{}},\"settings\":{\"columns\":{}},\"syncTimestamp\":1756806015814}",
       "filterBlob": null,
       "queryPlanFiltersBlob": null,
       "tableResultIndex": 0
      }
     },
     "title": "Products"
    }
   },
   "outputs": [],
   "source": [
    "CREATE OR REPLACE TABLE silver.Products AS\n",
    "SELECT DISTINCT\n",
    " MD5(\n",
    "    CONCAT(\n",
    "      COALESCE(CE_BRAND_FLVR, -1),\n",
    "      COALESCE(BRAND_NM, 'NÃO INFORMADO'),\n",
    "      COALESCE(PKG_CAT, 'NÃO INFORMADO'),\n",
    "      COALESCE(Pkg_Cat_Desc, 'NÃO INFORMADO'),\n",
    "      COALESCE(TSR_PCKG_NM, 'NÃO INFORMADO'))\n",
    "  ) AS product_id,\n",
    "  CE_BRAND_FLVR AS ce_brand_flvr,\n",
    "  BRAND_NM AS brand_nm,\n",
    "  PKG_CAT AS pkg_cat,\n",
    "  Pkg_Cat_Desc AS pkg_cat_desc,\n",
    "  TSR_PCKG_NM AS tsr_pckg_nm,\n",
    "  date_add(hour, -3, current_timestamp) insertdate\n",
    "FROM rodrigo_lakehouse.bronze.ambev_beverage_sales"
   ]
  },
  {
   "cell_type": "code",
   "execution_count": 0,
   "metadata": {
    "application/vnd.databricks.v1+cell": {
     "cellMetadata": {
      "byteLimit": 2048000,
      "rowLimit": 10000
     },
     "inputWidgets": {},
     "nuid": "411dc2ea-7933-45a9-aa93-f5aa490e215f",
     "showTitle": true,
     "tableResultSettingsMap": {
      "0": {
       "dataGridStateBlob": "{\"version\":1,\"tableState\":{\"columnPinning\":{\"left\":[\"#row_number#\"],\"right\":[]},\"columnSizing\":{},\"columnVisibility\":{}},\"settings\":{\"columns\":{}},\"syncTimestamp\":1756808007478}",
       "filterBlob": null,
       "queryPlanFiltersBlob": null,
       "tableResultIndex": 0
      }
     },
     "title": "Place"
    }
   },
   "outputs": [],
   "source": [
    "CREATE OR REPLACE TABLE silver.Places AS\n",
    "SELECT DISTINCT\n",
    "  md5(COALESCE(Btlr_Org_LVL_C_Desc, 'NÃO INFORMADO')) as place_id,\n",
    "  COALESCE(Btlr_Org_LVL_C_Desc, 'NÃO INFORMADO') as Btlr_Org_LVL_C_Desc,\n",
    "  date_add(hour, -3, current_timestamp) insertdate\n",
    "FROM rodrigo_lakehouse.bronze.ambev_beverage_sales"
   ]
  },
  {
   "cell_type": "code",
   "execution_count": 0,
   "metadata": {
    "application/vnd.databricks.v1+cell": {
     "cellMetadata": {
      "byteLimit": 2048000,
      "rowLimit": 10000
     },
     "inputWidgets": {},
     "nuid": "61b15310-1579-4ab0-acce-a4c38fcf5b71",
     "showTitle": true,
     "tableResultSettingsMap": {
      "0": {
       "dataGridStateBlob": "{\"version\":1,\"tableState\":{\"columnPinning\":{\"left\":[\"#row_number#\"],\"right\":[]},\"columnSizing\":{},\"columnVisibility\":{}},\"settings\":{\"columns\":{}},\"syncTimestamp\":1756808049511}",
       "filterBlob": null,
       "queryPlanFiltersBlob": null,
       "tableResultIndex": 0
      }
     },
     "title": "Channels"
    }
   },
   "outputs": [],
   "source": [
    "CREATE OR REPLACE TABLE silver.Channels AS\n",
    "SELECT DISTINCT\n",
    "  md5(COALESCE(TRADE_CHNL_DESC, 'NÃO INFORMADO')) as channel_id,\n",
    "  COALESCE(TRADE_CHNL_DESC, 'NÃO INFORMADO') AS trade_chnl_desc,\n",
    "  COALESCE(TRADE_GROUP_DESC, 'NÃO INFORMADO') AS trade_group_desc,\n",
    "  COALESCE(TRADE_TYPE_DESC, 'NÃO INFORMADO') AS trade_type_desc,\n",
    "  date_add(hour, -3, current_timestamp) insertdate\n",
    "FROM rodrigo_lakehouse.bronze.ambev_channel_group"
   ]
  }
 ],
 "metadata": {
  "application/vnd.databricks.v1+notebook": {
   "computePreferences": null,
   "dashboards": [],
   "environmentMetadata": {
    "base_environment": "",
    "environment_version": "3"
   },
   "inputWidgetPreferences": null,
   "language": "sql",
   "notebookMetadata": {
    "pythonIndentUnit": 4
   },
   "notebookName": "bronze_to_silver",
   "widgets": {}
  },
  "language_info": {
   "name": "sql"
  }
 },
 "nbformat": 4,
 "nbformat_minor": 0
}
