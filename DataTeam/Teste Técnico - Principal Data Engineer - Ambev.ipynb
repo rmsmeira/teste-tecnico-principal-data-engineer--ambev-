{
 "cells": [
  {
   "cell_type": "code",
   "execution_count": 0,
   "metadata": {
    "application/vnd.databricks.v1+cell": {
     "cellMetadata": {
      "byteLimit": 2048000,
      "rowLimit": 10000
     },
     "inputWidgets": {},
     "nuid": "ca005b85-ad75-4c6a-86d8-43ea67532197",
     "showTitle": false,
     "tableResultSettingsMap": {},
     "title": ""
    }
   },
   "outputs": [],
   "source": [
    "use catalog rodrigo_lakehouse"
   ]
  },
  {
   "cell_type": "code",
   "execution_count": 0,
   "metadata": {
    "application/vnd.databricks.v1+cell": {
     "cellMetadata": {
      "byteLimit": 2048000,
      "rowLimit": 10000
     },
     "inputWidgets": {},
     "nuid": "f1da6e3f-93dd-4b73-8136-00209030fb10",
     "showTitle": true,
     "tableResultSettingsMap": {
      "0": {
       "dataGridStateBlob": "{\"version\":1,\"tableState\":{\"columnPinning\":{\"left\":[\"#row_number#\"],\"right\":[]},\"columnSizing\":{},\"columnVisibility\":{}},\"settings\":{\"columns\":{}},\"syncTimestamp\":1756851452868}",
       "filterBlob": null,
       "queryPlanFiltersBlob": null,
       "tableResultIndex": 0
      }
     },
     "title": "4.1 Top 3 Grupos de Trade por Região em Volume de Vendas ($)"
    }
   },
   "outputs": [],
   "source": [
    "SELECT *\n",
    "FROM (\n",
    "    SELECT \n",
    "        r.Btlr_Org_LVL_C_Desc AS Regiao,\n",
    "        tg.TRADE_GROUP_DESC   AS TradeGroup,\n",
    "        SUM(f.volume)   AS Total_Sales\n",
    "    FROM gold.fact_sales f\n",
    "    JOIN gold.dim_places r   ON f.skplace   = r.skplace\n",
    "    JOIN gold.dim_channels tg ON f.skchannel = tg.skchannel\n",
    "    GROUP BY ALL\n",
    ")\n",
    "QUALIFY ROW_NUMBER() OVER (PARTITION BY Regiao ORDER BY Total_Sales DESC) <=3"
   ]
  },
  {
   "cell_type": "code",
   "execution_count": 0,
   "metadata": {
    "application/vnd.databricks.v1+cell": {
     "cellMetadata": {
      "byteLimit": 2048000,
      "rowLimit": 10000
     },
     "inputWidgets": {},
     "nuid": "981047ac-aedd-4dfc-9e0c-eba5e7ce6f03",
     "showTitle": true,
     "tableResultSettingsMap": {},
     "title": "4.2 Vendas ($) por Marca ao Longo dos Meses"
    }
   },
   "outputs": [],
   "source": [
    "SELECT \n",
    "    b.BRAND_NM        AS Marca,\n",
    "    t.year,\n",
    "    t.month,\n",
    "    SUM(f.Volume) AS Total_Vendas\n",
    "FROM gold.fact_sales f\n",
    "JOIN gold.dim_products b  ON f.skproduct  = b.skproduct\n",
    "JOIN gold.dim_calendar t  ON f.skcalendar  = t.skcalendar\n",
    "GROUP BY ALL\n",
    "ORDER BY b.BRAND_NM, t.year, t.month;"
   ]
  },
  {
   "cell_type": "code",
   "execution_count": 0,
   "metadata": {
    "application/vnd.databricks.v1+cell": {
     "cellMetadata": {
      "byteLimit": 2048000,
      "rowLimit": 10000
     },
     "inputWidgets": {},
     "nuid": "885aaf88-6386-4a84-8ab5-bb0891269704",
     "showTitle": true,
     "tableResultSettingsMap": {
      "0": {
       "dataGridStateBlob": "{\"version\":1,\"tableState\":{\"columnPinning\":{\"left\":[\"#row_number#\"],\"right\":[]},\"columnSizing\":{},\"columnVisibility\":{}},\"settings\":{\"columns\":{}},\"syncTimestamp\":1756851789265}",
       "filterBlob": null,
       "queryPlanFiltersBlob": null,
       "tableResultIndex": 0
      }
     },
     "title": "4.3 Marca com Menor Volume de Vendas em Cada Região"
    }
   },
   "outputs": [],
   "source": [
    "SELECT * \n",
    "FROM (\n",
    "  SELECT \n",
    "      r.Btlr_Org_LVL_C_Desc AS Regiao,\n",
    "      b.BRAND_NM            AS Marca,\n",
    "      SUM(f.volume)   AS Total_Vendas\n",
    "  FROM gold.fact_sales f\n",
    "  JOIN gold.dim_products b    ON f.skproduct    = b.skproduct\n",
    "  JOIN gold.dim_places  r ON f.skplace = r.skplace\n",
    "  GROUP BY r.Btlr_Org_LVL_C_Desc, b.BRAND_NM\n",
    ")\n",
    "QUALIFY ROW_NUMBER() OVER (PARTITION BY Regiao ORDER BY Total_Vendas ASC) = 1;"
   ]
  },
  {
   "cell_type": "markdown",
   "metadata": {
    "application/vnd.databricks.v1+cell": {
     "cellMetadata": {},
     "inputWidgets": {},
     "nuid": "a0bebd47-bf8f-4eca-af45-79ee6e813dfd",
     "showTitle": false,
     "tableResultSettingsMap": {},
     "title": ""
    }
   },
   "source": [
    "###### Melhoria\n",
    "\n",
    "###### bronze\n",
    "- tabela de controler para ingestao de arquivos\n",
    "- usar metodos para reutilizacao de codigo\n",
    "- vaccum\n",
    "\n",
    "##### silver\n",
    "- vaccum\n",
    "\n",
    "##### gold\n",
    "- Colocar merge auto schema para adicionar campos automáticos\n",
    "- Adicionar SDC2\n",
    "- Adicionar Comentários\n",
    "- Enriquecer a dim_calendar\n",
    "- Vaccum"
   ]
  }
 ],
 "metadata": {
  "application/vnd.databricks.v1+notebook": {
   "computePreferences": {
    "hardware": {
     "accelerator": null,
     "gpuPoolId": null,
     "memory": null
    }
   },
   "dashboards": [],
   "environmentMetadata": {
    "base_environment": "",
    "environment_version": "3"
   },
   "inputWidgetPreferences": null,
   "language": "sql",
   "notebookMetadata": {
    "pythonIndentUnit": 4
   },
   "notebookName": "Teste Técnico - Principal Data Engineer - Ambev",
   "widgets": {}
  },
  "language_info": {
   "name": "sql"
  }
 },
 "nbformat": 4,
 "nbformat_minor": 0
}
