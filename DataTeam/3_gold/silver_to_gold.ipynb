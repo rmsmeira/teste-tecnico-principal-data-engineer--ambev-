{
 "cells": [
  {
   "cell_type": "code",
   "execution_count": 0,
   "metadata": {
    "application/vnd.databricks.v1+cell": {
     "cellMetadata": {},
     "inputWidgets": {},
     "nuid": "cf28eeae-5b1b-411b-96d6-c1201e9ffa34",
     "showTitle": false,
     "tableResultSettingsMap": {},
     "title": ""
    }
   },
   "outputs": [],
   "source": [
    "use catalog rodrigo_lakehouse"
   ]
  },
  {
   "cell_type": "code",
   "execution_count": 0,
   "metadata": {
    "application/vnd.databricks.v1+cell": {
     "cellMetadata": {
      "byteLimit": 2048000,
      "rowLimit": 10000
     },
     "inputWidgets": {},
     "nuid": "765a5a5d-a9fe-4015-bbe3-d6b09663c5a9",
     "showTitle": true,
     "tableResultSettingsMap": {},
     "title": "dim_channels"
    }
   },
   "outputs": [],
   "source": [
    "MERGE INTO rodrigo_lakehouse.gold.dim_channels AS target\n",
    "USING rodrigo_lakehouse.silver.channels AS source\n",
    "ON target.channel_id = source.channel_id\n",
    "WHEN MATCHED THEN\n",
    "  UPDATE SET \n",
    "    target.trade_chnl_desc = source.trade_chnl_desc,\n",
    "    target.trade_group_desc = source.trade_group_desc,\n",
    "    target.trade_type_desc = source.trade_type_desc,\n",
    "    target.start_date = cast('1990-01-01' as timestamp),\n",
    "    target.end_date = cast('9999-12-31' as timestamp),\n",
    "    target.current = current,\n",
    "    target.insertdate = source.insertdate\n",
    "WHEN NOT MATCHED THEN \n",
    "  INSERT (channel_id, trade_chnl_desc, trade_group_desc, trade_type_desc, start_date, end_date, current, insertdate)\n",
    "  VALUES (source.channel_id, source.trade_chnl_desc, source.trade_group_desc, source.trade_type_desc, cast('1990-01-01' as timestamp), cast('9999-12-31' as timestamp), True, source.insertdate)"
   ]
  },
  {
   "cell_type": "code",
   "execution_count": 0,
   "metadata": {
    "application/vnd.databricks.v1+cell": {
     "cellMetadata": {
      "byteLimit": 2048000,
      "rowLimit": 10000
     },
     "inputWidgets": {},
     "nuid": "eeff7953-9989-4d74-a269-50b0f54a1221",
     "showTitle": true,
     "tableResultSettingsMap": {},
     "title": "dim_places"
    }
   },
   "outputs": [],
   "source": [
    "MERGE WITH SCHEMA EVOLUTION INTO rodrigo_lakehouse.gold.dim_places AS target\n",
    "USING rodrigo_lakehouse.silver.places AS source\n",
    "ON target.place_id = source.place_id\n",
    "WHEN MATCHED THEN\n",
    "  UPDATE SET \n",
    "    target.Btlr_Org_LVL_C_Desc = source.Btlr_Org_LVL_C_Desc,\n",
    "    target.start_date = cast('1990-01-01' as timestamp),\n",
    "    target.end_date = cast('9999-12-31' as timestamp),\n",
    "    target.current = current,\n",
    "    target.insertdate = source.insertdate\n",
    "WHEN NOT MATCHED THEN \n",
    "    INSERT (place_id, Btlr_Org_LVL_C_Desc, start_date, end_date, current, insertdate)\n",
    "  VALUES (source.place_id, source.Btlr_Org_LVL_C_Desc, cast('1990-01-01' as timestamp), cast('9999-12-31' as timestamp), True, source.insertdate)"
   ]
  },
  {
   "cell_type": "code",
   "execution_count": 0,
   "metadata": {
    "application/vnd.databricks.v1+cell": {
     "cellMetadata": {
      "byteLimit": 2048000,
      "rowLimit": 10000
     },
     "inputWidgets": {},
     "nuid": "501bea2c-f6b6-49b2-ac5e-253280028bfd",
     "showTitle": true,
     "tableResultSettingsMap": {
      "0": {
       "dataGridStateBlob": "{\"version\":1,\"tableState\":{\"columnPinning\":{\"left\":[\"#row_number#\"],\"right\":[]},\"columnSizing\":{},\"columnVisibility\":{}},\"settings\":{\"columns\":{}},\"syncTimestamp\":1756810656247}",
       "filterBlob": null,
       "queryPlanFiltersBlob": null,
       "tableResultIndex": 0
      }
     },
     "title": "dim_products"
    }
   },
   "outputs": [],
   "source": [
    "MERGE WITH SCHEMA EVOLUTION INTO rodrigo_lakehouse.gold.dim_products AS target\n",
    "USING rodrigo_lakehouse.silver.products AS source\n",
    "ON target.product_id = source.product_id\n",
    "WHEN MATCHED THEN\n",
    "  UPDATE SET \n",
    "    target.ce_brand_flvr = source.ce_brand_flvr,\n",
    "    target.brand_nm = source.brand_nm,\n",
    "    target.pkg_cat = source.pkg_cat,\n",
    "    target.pkg_cat_desc = source.pkg_cat_desc,\n",
    "    target.tsr_pckg_nm = source.tsr_pckg_nm,\n",
    "    target.start_date = cast('1990-01-01' as timestamp),\n",
    "    target.end_date = cast('9999-12-31' as timestamp),\n",
    "    target.current = current,\n",
    "    target.insertdate = source.insertdate\n",
    "WHEN NOT MATCHED THEN \n",
    "    INSERT (source.product_id, ce_brand_flvr, brand_nm, pkg_cat, pkg_cat_desc, tsr_pckg_nm, start_date, end_date, current, insertdate)\n",
    "  VALUES (source.product_id, source.ce_brand_flvr, source.brand_nm,  source.pkg_cat,  source.pkg_cat_desc,  source.tsr_pckg_nm, cast('1990-01-01' as timestamp), cast('9999-12-31' as timestamp), True, source.insertdate)"
   ]
  },
  {
   "cell_type": "code",
   "execution_count": 0,
   "metadata": {
    "application/vnd.databricks.v1+cell": {
     "cellMetadata": {
      "byteLimit": 2048000,
      "rowLimit": 10000
     },
     "inputWidgets": {},
     "nuid": "2d74b08d-4824-4867-b675-3910f6cc0843",
     "showTitle": true,
     "tableResultSettingsMap": {},
     "title": "sales"
    }
   },
   "outputs": [],
   "source": [
    "MERGE INTO rodrigo_lakehouse.gold.fact_sales AS target\n",
    "USING \n",
    "(\n",
    "  SELECT \n",
    "    sales.sale_id,\n",
    "    dim_calendar.skcalendar,\n",
    "    dim_channels.skchannel,\n",
    "    dim_products.skproduct,\n",
    "    dim_places.skplace,\n",
    "    sales.volume,\n",
    "    sales.insertdate\n",
    "  FROM silver.sales\n",
    "  INNER JOIN gold.dim_calendar using (date)\n",
    "  INNER JOIN gold.dim_channels using (channel_id)\n",
    "  INNER JOIN gold.dim_products using (product_id)\n",
    "  INNER JOIN gold.dim_places using (place_id)\n",
    ") AS source\n",
    "ON target.sales_id = source.sale_id\n",
    "WHEN MATCHED THEN\n",
    "  UPDATE SET \n",
    "    target.sales_id = source.sale_id,\n",
    "    target.skcalendar = source.skcalendar,\n",
    "    target.skproduct = source.skproduct,\n",
    "    target.skplace = source.skplace,\n",
    "    target.skchannel = source.skchannel,\n",
    "    target.volume = source.volume,\n",
    "    target.insertdate = source.insertdate\n",
    "WHEN NOT MATCHED THEN \n",
    "  INSERT (sales_id, skcalendar, skproduct, skplace, skchannel, volume, insertdate)\n",
    "  VALUES (source.sale_id, source.skcalendar, source.skproduct, source.skplace, source.skchannel, source.volume, source.insertdate)"
   ]
  }
 ],
 "metadata": {
  "application/vnd.databricks.v1+notebook": {
   "computePreferences": null,
   "dashboards": [],
   "environmentMetadata": {
    "base_environment": "",
    "environment_version": "3"
   },
   "inputWidgetPreferences": null,
   "language": "sql",
   "notebookMetadata": {
    "pythonIndentUnit": 4
   },
   "notebookName": "silver_to_gold",
   "widgets": {}
  },
  "language_info": {
   "name": "sql"
  }
 },
 "nbformat": 4,
 "nbformat_minor": 0
}
