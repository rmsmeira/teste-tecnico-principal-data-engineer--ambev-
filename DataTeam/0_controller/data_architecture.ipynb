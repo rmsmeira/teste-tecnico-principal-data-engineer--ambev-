{
 "cells": [
  {
   "cell_type": "code",
   "execution_count": 0,
   "metadata": {
    "application/vnd.databricks.v1+cell": {
     "cellMetadata": {
      "byteLimit": 2048000,
      "rowLimit": 10000
     },
     "inputWidgets": {},
     "nuid": "33c82379-0f9d-4128-9a33-d1c8b84473bf",
     "showTitle": true,
     "tableResultSettingsMap": {},
     "title": "Lakehouse"
    },
    "jupyter": {
     "source_hidden": true
    }
   },
   "outputs": [],
   "source": [
    "from PIL import Image\n",
    "import matplotlib.pyplot as plt\n",
    "\n",
    "path = \"/Volumes/rodrigo_lakehouse/bronze/brz_vol_imagens/building-data-pipelines-with-delta-lake-120823.png\"\n",
    "\n",
    "# Abrir a imagem\n",
    "img = Image.open(path)\n",
    "\n",
    "# Definir tamanho da figura (em polegadas, ex: 12x8)\n",
    "w, h = img.size\n",
    "plt.figure(figsize=(w/100, h/100))\n",
    "plt.imshow(img)\n",
    "plt.axis(\"off\")\n",
    "plt.show()"
   ]
  }
 ],
 "metadata": {
  "application/vnd.databricks.v1+notebook": {
   "computePreferences": {
    "hardware": {
     "accelerator": null,
     "gpuPoolId": null,
     "memory": null
    }
   },
   "dashboards": [],
   "environmentMetadata": {
    "base_environment": "",
    "environment_version": "3"
   },
   "inputWidgetPreferences": null,
   "language": "python",
   "notebookMetadata": {
    "pythonIndentUnit": 4
   },
   "notebookName": "data_architecture",
   "widgets": {}
  },
  "language_info": {
   "name": "python"
  }
 },
 "nbformat": 4,
 "nbformat_minor": 0
}
