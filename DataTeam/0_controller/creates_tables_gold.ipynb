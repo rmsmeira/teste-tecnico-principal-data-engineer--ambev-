{
 "cells": [
  {
   "cell_type": "code",
   "execution_count": 0,
   "metadata": {
    "application/vnd.databricks.v1+cell": {
     "cellMetadata": {
      "byteLimit": 2048000,
      "rowLimit": 10000
     },
     "inputWidgets": {},
     "nuid": "68bc4562-02e4-45a6-a556-f54dd5db7a36",
     "showTitle": false,
     "tableResultSettingsMap": {},
     "title": ""
    }
   },
   "outputs": [],
   "source": [
    "use catalog rodrigo_lakehouse"
   ]
  },
  {
   "cell_type": "code",
   "execution_count": 0,
   "metadata": {
    "application/vnd.databricks.v1+cell": {
     "cellMetadata": {
      "byteLimit": 2048000,
      "rowLimit": 10000
     },
     "inputWidgets": {},
     "nuid": "15201831-01d0-431c-aa75-d8517c762d9f",
     "showTitle": true,
     "tableResultSettingsMap": {},
     "title": "dim_channels"
    }
   },
   "outputs": [],
   "source": [
    "CREATE OR REPLACE TABLE gold.dim_channels (\n",
    "  skchannel BIGINT GENERATED ALWAYS AS IDENTITY (START WITH 1 INCREMENT BY 1),\n",
    "  channel_id STRING NOT NULL,\n",
    "  trade_chnl_desc STRING,\n",
    "  trade_group_desc STRING,\n",
    "  trade_type_desc STRING,\n",
    "  start_date TIMESTAMP,\n",
    "  end_date TIMESTAMP,\n",
    "  current BOOLEAN,\n",
    "  insertdate TIMESTAMP\n",
    ")\n",
    "USING DELTA;"
   ]
  },
  {
   "cell_type": "code",
   "execution_count": 0,
   "metadata": {
    "application/vnd.databricks.v1+cell": {
     "cellMetadata": {
      "byteLimit": 2048000,
      "rowLimit": 10000
     },
     "inputWidgets": {},
     "nuid": "8f95b454-8032-4fb9-b222-58dba73fb7ac",
     "showTitle": true,
     "tableResultSettingsMap": {},
     "title": "dim_places"
    }
   },
   "outputs": [],
   "source": [
    "CREATE OR REPLACE TABLE gold.dim_places (\n",
    "  skplace BIGINT GENERATED ALWAYS AS IDENTITY (START WITH 1 INCREMENT BY 1),\n",
    "  place_id STRING NOT NULL, \n",
    "  Btlr_Org_LVL_C_Desc STRING,\n",
    "  start_date TIMESTAMP,\n",
    "  end_date TIMESTAMP,\n",
    "  current BOOLEAN,\n",
    "  insertdate TIMESTAMP\n",
    ")\n",
    "USING DELTA;"
   ]
  },
  {
   "cell_type": "code",
   "execution_count": 0,
   "metadata": {
    "application/vnd.databricks.v1+cell": {
     "cellMetadata": {
      "byteLimit": 2048000,
      "rowLimit": 10000
     },
     "inputWidgets": {},
     "nuid": "563d97a0-7a29-40ea-9763-62200529aae1",
     "showTitle": true,
     "tableResultSettingsMap": {},
     "title": "dim_products"
    }
   },
   "outputs": [],
   "source": [
    "CREATE OR REPLACE TABLE gold.dim_products (\n",
    "  skproduct BIGINT GENERATED ALWAYS AS IDENTITY (START WITH 1 INCREMENT BY 1),\n",
    "  product_id STRING NOT NULL,\n",
    "  ce_brand_flvr STRING,\n",
    "  brand_nm STRING,\n",
    "  pkg_cat STRING,\n",
    "  pkg_cat_desc STRING,\n",
    "  tsr_pckg_nm STRING,\n",
    "  start_date TIMESTAMP,\n",
    "  end_date TIMESTAMP,\n",
    "  current BOOLEAN,\n",
    "  insertdate TIMESTAMP\n",
    ")\n",
    "USING DELTA;"
   ]
  },
  {
   "cell_type": "code",
   "execution_count": 0,
   "metadata": {
    "application/vnd.databricks.v1+cell": {
     "cellMetadata": {
      "byteLimit": 2048000,
      "rowLimit": 10000
     },
     "inputWidgets": {},
     "nuid": "c8d556d8-8bab-414a-8aeb-bb8331094ce3",
     "showTitle": true,
     "tableResultSettingsMap": {},
     "title": "dim_calendar"
    }
   },
   "outputs": [],
   "source": [
    "CREATE OR REPLACE TABLE gold.dim_calendar (\n",
    "  skcalendar BIGINT GENERATED ALWAYS AS IDENTITY (START WITH 1 INCREMENT BY 1),\n",
    "  date DATE NOT NULL,\n",
    "  day INT,\n",
    "  month INT,\n",
    "  year INT,\n",
    "  insertdate TIMESTAMP\n",
    ")\n",
    "USING DELTA;"
   ]
  },
  {
   "cell_type": "code",
   "execution_count": 0,
   "metadata": {
    "application/vnd.databricks.v1+cell": {
     "cellMetadata": {
      "byteLimit": 2048000,
      "rowLimit": 10000
     },
     "inputWidgets": {},
     "nuid": "157f8ede-383d-439e-96ac-60f33db21663",
     "showTitle": false,
     "tableResultSettingsMap": {},
     "title": ""
    }
   },
   "outputs": [],
   "source": [
    "INSERT INTO gold.dim_calendar (date, day, month, year, insertdate)\n",
    "SELECT DISTINCT\n",
    " COALESCE(TO_DATE(DATE, 'M/d/yyyy') , '1990-01-01') as date,\n",
    " LPAD(DAY(TO_DATE(DATE, 'M/d/yyyy')), 2, 0) DAY,\n",
    " LPAD(MONTH(TO_DATE(DATE, 'M/d/yyyy')), 2, 0) MONTH,\n",
    " LPAD(YEAR(TO_DATE(DATE, 'M/d/yyyy')), 4, 0) YEAR,\n",
    " date_add(hour, -3, current_timestamp) insertdate\n",
    "FROM rodrigo_lakehouse.bronze.ambev_beverage_sales"
   ]
  },
  {
   "cell_type": "code",
   "execution_count": 0,
   "metadata": {
    "application/vnd.databricks.v1+cell": {
     "cellMetadata": {
      "byteLimit": 2048000,
      "rowLimit": 10000
     },
     "inputWidgets": {},
     "nuid": "978085c0-e043-49d2-8ff1-060b94249c55",
     "showTitle": true,
     "tableResultSettingsMap": {},
     "title": "fact_sales"
    }
   },
   "outputs": [],
   "source": [
    "CREATE OR REPLACE TABLE gold.fact_sales (\n",
    "  skcalendar BIGINT NOT NULL,\n",
    "  sales_id STRING NOT NULL,\n",
    "  skproduct BIGINT NOT NULL,\n",
    "  skplace BIGINT NOT NULL,\n",
    "  skchannel BIGINT NOT NULL,\n",
    "  volume DECIMAL(18,2) NOT NULL,\n",
    "  insertdate TIMESTAMP NOT NULL\n",
    ")\n",
    "USING DELTA;"
   ]
  }
 ],
 "metadata": {
  "application/vnd.databricks.v1+notebook": {
   "computePreferences": null,
   "dashboards": [],
   "environmentMetadata": {
    "base_environment": "",
    "environment_version": "3"
   },
   "inputWidgetPreferences": null,
   "language": "sql",
   "notebookMetadata": {
    "pythonIndentUnit": 4
   },
   "notebookName": "creates_tables_gold",
   "widgets": {}
  },
  "language_info": {
   "name": "sql"
  }
 },
 "nbformat": 4,
 "nbformat_minor": 0
}
